{
  "cells": [
    {
      "cell_type": "markdown",
      "metadata": {},
      "source": [
        "<div>\n",
        "<img src=\"https://www.nebrija.com/images/logos/logotipo-universidad-nebrija.jpg\" width=\"200\">\n",
        "</div>\n",
        "\n",
        "**MODELOS DE PROGRAMACION: MODELO ADIABATICO** -\n",
        "Prof: Carmen Pellicer Lostao"
      ]
    },
    {
      "cell_type": "markdown",
      "metadata": {
        "id": "SevNNmx1OIzZ"
      },
      "source": [
        "# Constrained Scheduling"
      ]
    },
    {
      "cell_type": "markdown",
      "metadata": {},
      "source": [
        "## Intro"
      ]
    },
    {
      "cell_type": "markdown",
      "metadata": {
        "id": "Jp6hlQcJOPgl"
      },
      "source": [
        "This notebook solves a **binary constraint satisfaction problem (CSP)**. CSPs require that all a problem’s variables be assigned values that result in the satisfying of all constraints. Here, the constraints are a company’s policy for scheduling meetings:\n",
        "\n",
        "- Constraint 1: During business hours, all meetings must be attended in person at the office.\n",
        "\n",
        "- Constraint 2: During business hours, participation in meetings is mandatory.\n",
        "\n",
        "- Constraint 3: Outside business hours, meetings must be teleconferenced.\n",
        "\n",
        "- Constraint 4: Outside business hours, meetings must not exceed 30 minutes.\n",
        "\n",
        "Solving such a CSP means **finding arrangements of meetings that meet all the constraints**.\n",
        "\n",
        "The purpose of this example is to help a new user to formulate a constraint satisfaction problem using Ocean tools and solve it on a D-Wave quantum computer."
      ]
    },
    {
      "cell_type": "markdown",
      "metadata": {
        "id": "BCMAUDdoPUMy"
      },
      "source": [
        "This example follows the [Workflow steps: Formulation and Sampling](https://docs.ocean.dwavesys.com/en/stable/overview/solving_problems.html#solving-problems) that describes the problem-solving workflow as consisting of two main steps:\n",
        "\n",
        "1.  **Formulate the problem** as an objective function in a supported form of quadratic model (QM) and\n",
        "2.   **Solve your QM** with a D-Wave solver.\n",
        "\n",
        "In CSP problems we represent the **problem’s constraints as penalties** (small Binary Quadratic Modelss that have higher values for variable assignments that violate constraints) and **creates an objective function by summing all four penalty models**. Solvers that seek low-energy states are thus less likely to return meeting arrangements that violate constraints."
      ]
    },
    {
      "cell_type": "markdown",
      "metadata": {
        "id": "XAerL1yyO3yr"
      },
      "source": [
        "## Formulate the problem"
      ]
    },
    {
      "cell_type": "markdown",
      "metadata": {
        "id": "9bvc45l8V3xd"
      },
      "source": [
        "D-Wave quantum computers solve binary quadratic models, so the first step is to express the problem with binary variables"
      ]
    },
    {
      "cell_type": "markdown",
      "metadata": {
        "id": "DNH7ENsHVx82"
      },
      "source": [
        "### The Variables"
      ]
    },
    {
      "cell_type": "markdown",
      "metadata": {
        "id": "8vctil2mQbmx"
      },
      "source": [
        "In this scheduling example we use the following valued binary variables:\n",
        "\n",
        "Problem Variables\n",
        "\n",
        "|Variable | Represents | Value: 1 | Value: 0 |\n",
        "| :---: | :---: | :---: | :---: |\n",
        "|t |Time of day|Business hours|Non-business hours|\n",
        "|v|Venue|Office|Teleconference|\n",
        "|l|Length|Short (< 30 min)|Long|\n",
        "|p|Participation|Mandatory|Optional|\n",
        "\n"
      ]
    },
    {
      "cell_type": "markdown",
      "metadata": {
        "id": "rHKfzcGxRt_c"
      },
      "source": [
        "<u>**NOTE**</u>: A slightly more complex problem might require variables with multiple values; for example, l could have values {30, 60, 120} representing the duration in minutes of meetings of several lengths. For such problems a discrete quadratic model (DQM) could be a better choice.\n",
        "\n",
        "In general, problems with constraints are more simply solved using a constrained quadratic model (CQM)."
      ]
    },
    {
      "cell_type": "markdown",
      "metadata": {
        "id": "aBrjFj10SbLw"
      },
      "source": [
        "For large numbers of variables and constraints, such problems can be hard. This example has four binary variables, so only $2^4=16$ possible meeting arrangements. As shown in the table below, it is a simple matter to work out all the combinations by hand to find solutions that meet all the constraints.\n",
        "\n",
        "All Possible Meeting Options.\n",
        "\n",
        "|Time of Day|Venue|Duration|Participation|Valid?|\n",
        "| :---: | :---: | :---: | :---: | :---: |\n",
        "|Business hours|Office|Short|Mandatory|Yes|\n",
        "|Business hours|Office|Short|Optional|No (violates 2)|\n",
        "|Business hours|Office|Long|Mandatory|Yes|\n",
        "|Business hours|Office|Long|Optional|No (violates 2)|\n",
        "|Business hours|Teleconference|Short|Mandatory|No (violates 1)|\n",
        "|Business hours|Teleconference|Short|Optional|No (violates 1, 2)|\n",
        "|Business hours|Teleconference|Long|Mandatory|No (violates 1)|\n",
        "|Business hours|Teleconference|Long|Optional|No (violates 1, 2)|\n",
        "|Non-business hours|Office|Short|Mandatory|No (violates 3)|\n",
        "|Non-business hours|Office|Short|Optional|No (violates 3)|\n",
        "|Non-business hours|Office|Long|Mandatory|No (violates 3, 4)|\n",
        "|Non-business hours|Office|Long|Optional|No (violates 3, 4)|\n",
        "|Non-business hours|Teleconference|Short|Mandatory|Yes|\n",
        "|Non-business hours|Teleconference|Short|Optional|Yes|\n",
        "|Non-business hours|Teleconference|Long|Mandatory|No (violates 4)|\n",
        "|Non-business hours|Teleconference|Long|Optional|No (violates 4)|"
      ]
    },
    {
      "cell_type": "markdown",
      "metadata": {
        "id": "2BDbAe-_V7G1"
      },
      "source": [
        "### Represent Constraints as Penalties"
      ]
    },
    {
      "cell_type": "markdown",
      "metadata": {
        "id": "nx4zLcyeWFVt"
      },
      "source": [
        "You can represent constraints as BQMs using Penalty Models in many different ways.\n",
        "\n",
        "- Constraint 1: During business hours, all meetings must be attended in person at the office.\n",
        "\n",
        "This constraint requires that if $t=1$ (time of day is within business hours) then $v=1$ (venue is the office). A simple penalty function,\n",
        ", is shown in the truth table below:\n",
        "\n",
        "|$t$|$v$| $t-tv$|\n",
        "| :---: | :---: | :---: |\n",
        "|0|0|0|\n",
        "|0|1|0|\n",
        "|1|0|1|\n",
        "|1|1|0|\n",
        "\n",
        "<u>**NOTE**</u>: One way to derive such a penalty function is to start with the simple case of a Boolean operator: the AND constraint, $ab$, penalizes variable values $a=b=1$. To penalize $a=1,b=0$ , you need the penalty function $a¬b$\n",
        ". For binary valued variables, you can substitute $~b=(1-b)$ into the penalty and get the penalty $a(1-b)$"
      ]
    },
    {
      "cell_type": "markdown",
      "metadata": {
        "id": "rFLXkqA4i4_3"
      },
      "source": [
        "- Constraint 2: During business hours, participation in meetings is mandatory.\n",
        "\n",
        "This constraint requires that if $t=1$\n",
        " (time of day is within business hours) then $p=1$ (participation is mandatory). A penalty function is $t-tp$, analogous to constraint 1.\n",
        "\n",
        "- Constraint 3: Outside business hours, meetings must be teleconferenced.\n",
        "\n",
        "This constraint requires that if $t=0$ (time of day is outside business hours) then $v=0$ (venue is teleconference, not the office). A penalty function is $v-tv$, a reversal of constraint 1.\n",
        "\n",
        "- Constraint 4: Outside business hours, meetings must not exceed 30 minutes.\n",
        "\n",
        "This constraint requires that if $t=0$ (time of day is outside business hours) then $l=1$ (meeting length is short). A simple penalty function is $1+tl-t-l$\n",
        ", as shown in the truth table below:\n",
        "\n",
        "|$t$|$v$| $1+tl-t-l$    |\n",
        "| :---: | :---: | :---: |\n",
        "|0|0|1                  |\n",
        "|0|1|0                  |\n",
        "|1|0|0                  |\n",
        "|1|1|0                  |\n",
        "\n",
        "Penalty function $1+tl-t-l$ is\n",
        " sets a penalty of 1 for the case $t=l=0$\n",
        ", representing a lengthy meeting outside business hours, which violates constraint 4. When incorporated in an objective function, solutions that violate constraint 4 do not yield minimal values\n",
        "\n",
        "<u>**NOTE**</u>: One way to derive such a penalty function is to start with the simple case of a Boolean operator: the AND constraint, $ab$, penalizes variable values $a=b=1$. To penalize $a=0,b=0$ , you need the penalty function $~a~b$\n",
        ". For binary valued variables, you can substitute $¬a=(1-a)$ and $¬b=(1-b)$ into the\n",
        "penalty and get the penalty $(1-a)(1-b)=1-a-b+ab$"
      ]
    },
    {
      "cell_type": "markdown",
      "metadata": {
        "id": "ysdbmTlZq5nm"
      },
      "source": [
        "### Create a BQM"
      ]
    },
    {
      "cell_type": "markdown",
      "metadata": {
        "id": "NbO_-Rp_q-T6"
      },
      "source": [
        "The total penalty for all four constraints is\n",
        "\n",
        "$t-tv+t-tp+v-tv+1+tl-t-l = -2tv-tp+tl+t+v-l+1$\n",
        "\n",
        "Ocean’s dimod enables the creation of BQMs. Below, the first list of terms are the linear terms and the second are the quadratic terms; the offset is set to 1; and the variable type is set to use\n",
        "–valued binary variables"
      ]
    },
    {
      "cell_type": "code",
      "execution_count": 1,
      "metadata": {
        "id": "oD66IZzGSE1E"
      },
      "outputs": [],
      "source": [
        "from dimod import BinaryQuadraticModel\n",
        "bqm = BinaryQuadraticModel({'t': 1, 'v': 1, 'l': -1},       #linear\n",
        "                           {'tv': -2, 'tl': 1, 'tp': -1},   #quadratic\n",
        "                           1,                               #offset\n",
        "                           'BINARY')                        #QUBO"
      ]
    },
    {
      "cell_type": "markdown",
      "metadata": {
        "id": "dU5qv3Nlq8hM"
      },
      "source": [
        "## Solve the problem in a QPU"
      ]
    },
    {
      "cell_type": "markdown",
      "metadata": {
        "id": "t0PLsL-4sDAJ"
      },
      "source": [
        "For small numbers of variables, even your computer’s CPU can solve CSPs quickly. Here you solve both classically on your CPU and on the quantum computer."
      ]
    },
    {
      "cell_type": "markdown",
      "metadata": {
        "id": "cIQVbMAdsGkW"
      },
      "source": [
        "### Solving classically on a CPU"
      ]
    },
    {
      "cell_type": "markdown",
      "metadata": {
        "id": "HPnw6eAtsNKt"
      },
      "source": [
        "Before using a D-Wave quantum computer, it can sometimes be helpful to test code locally. Here, select one of Ocean software’s [classical samplers](https://docs.ocean.dwavesys.com/en/stable/docs_dimod/reference/sampler_composites/samplers.html) or [dimod sampler utilities](https://docs.ocean.dwavesys.com/en/stable/docs_dimod/reference/sampler_composites/index.html) to solve classically on a CPU.\n",
        "\n",
        "Ocean’s `dimod` [ExactSolver()](https://docs.ocean.dwavesys.com/en/stable/docs_dimod/reference/sampler_composites/samplers.html#exact-solver) provides a sampler that simply returns the BQM’s value (energy) for every possible assignment of variable values.\n",
        "\n",
        "Ocean's `dwave-samplers` [SimulatedAnnealing()](https://docs.ocean.dwavesys.com/en/stable/docs_samplers/index.html#simulated-annealing) provides a sampler that simulates a QPU\n",
        "\n",
        "Valid solutions—assignments of variables that do not violate constraints—have the lowest value of the BQM (values of zero in the energy field below):\n"
      ]
    },
    {
      "cell_type": "code",
      "execution_count": 2,
      "metadata": {
        "id": "TcYjaKqduiyx"
      },
      "outputs": [
        {
          "name": "stdout",
          "output_type": "stream",
          "text": [
            "    l  p  t  v energy num_oc.\n",
            "7   1  0  0  0    0.0       1\n",
            "8   1  1  0  0    0.0       1\n",
            "10  1  1  1  1    0.0       1\n",
            "13  0  1  1  1    0.0       1\n",
            "0   0  0  0  0    1.0       1\n",
            "2   0  0  1  1    1.0       1\n",
            "4   1  0  0  1    1.0       1\n",
            "5   1  0  1  1    1.0       1\n",
            "9   1  1  1  0    1.0       1\n",
            "11  1  1  0  1    1.0       1\n",
            "14  0  1  1  0    1.0       1\n",
            "15  0  1  0  0    1.0       1\n",
            "1   0  0  1  0    2.0       1\n",
            "3   0  0  0  1    2.0       1\n",
            "6   1  0  1  0    2.0       1\n",
            "12  0  1  0  1    2.0       1\n",
            "['BINARY', 16 rows, 16 samples, 4 variables]\n",
            "   l  p  t  v energy num_oc.\n",
            "0  1  0  0  0    0.0       1\n",
            "1  1  1  0  0    0.0       1\n",
            "2  1  1  1  1    0.0       1\n",
            "3  0  1  1  1    0.0       1\n",
            "['BINARY', 4 rows, 4 samples, 4 variables]\n",
            "None\n"
          ]
        }
      ],
      "source": [
        "from dimod.reference.samplers import ExactSolver\n",
        "sampler = ExactSolver()\n",
        "sampleset_exact = sampler.sample(bqm)\n",
        "print(sampleset_exact)\n",
        "print(print(sampleset_exact.lowest(atol=.5)))"
      ]
    },
    {
      "cell_type": "code",
      "execution_count": 3,
      "metadata": {
        "id": "BzW5EC92r0pM"
      },
      "outputs": [
        {
          "name": "stdout",
          "output_type": "stream",
          "text": [
            "   l  p  t  v energy num_oc.\n",
            "0  1  1  1  1    0.0       1\n",
            "['BINARY', 1 rows, 1 samples, 4 variables]\n",
            "   l  p  t  v energy num_oc.\n",
            "0  1  1  1  1    0.0       1\n",
            "['BINARY', 1 rows, 1 samples, 4 variables]\n",
            "None\n"
          ]
        }
      ],
      "source": [
        "from dwave.samplers import SimulatedAnnealingSampler\n",
        "sampler = SimulatedAnnealingSampler()\n",
        "sampleset_sim = sampler.sample(bqm)\n",
        "print(sampleset_sim)\n",
        "print(print(sampleset_sim.lowest(atol=.5)))"
      ]
    },
    {
      "cell_type": "markdown",
      "metadata": {
        "id": "T0hwcGz0vOH1"
      },
      "source": [
        "The code below prints all those solutions (assignments of variables) for which the BQM has its minimum value."
      ]
    },
    {
      "cell_type": "code",
      "execution_count": 4,
      "metadata": {
        "id": "T_NcpF04vOvv"
      },
      "outputs": [
        {
          "name": "stdout",
          "output_type": "stream",
          "text": [
            "During evenings at home, you can schedule a short meeting that is optional\n",
            "During evenings at home, you can schedule a short meeting that is mandatory\n",
            "During business hours at office, you can schedule a short meeting that is mandatory\n",
            "During business hours at office, you can schedule a long meeting that is mandatory\n"
          ]
        }
      ],
      "source": [
        "for sample, energy in sampleset_exact.data(['sample', 'energy']):\n",
        "    if energy==0:\n",
        "        time = 'business hours' if sample['t'] else 'evenings'\n",
        "        venue = 'office' if sample['v'] else 'home'\n",
        "        length = 'short' if sample['l'] else 'long'\n",
        "        participation = 'mandatory' if sample['p'] else 'optional'\n",
        "        print(\"During {} at {}, you can schedule a {} meeting that is {}\".format(time, venue, length, participation))"
      ]
    },
    {
      "cell_type": "markdown",
      "metadata": {
        "id": "vuYXHsIIvnrW"
      },
      "source": [
        "### Solving on a D-Wave Quantum Computer (QPU)"
      ]
    },
    {
      "cell_type": "markdown",
      "metadata": {
        "id": "LkYRmYPXwnXS"
      },
      "source": [
        "Now solve on a D-Wave system using sampler [DWaveSampler()](https://docs.ocean.dwavesys.com/en/stable/docs_system/reference/samplers.html#dwavesampler) from Ocean software’s dwave-system. Also use its [EmbeddingComposite()](https://docs.ocean.dwavesys.com/en/stable/docs_system/reference/composites.html#embeddingcomposite) composite to map your unstructured problem (variables such as t etc.) to the sampler’s graph structure (the QPU’s numerically indexed qubits) in a process known as minor-embedding. The next code sets up a D-Wave quantum computer as the sampler."
      ]
    },
    {
      "cell_type": "code",
      "execution_count": 5,
      "metadata": {
        "id": "f-02HRXtvspL"
      },
      "outputs": [],
      "source": [
        "from dwave.system import DWaveSampler, EmbeddingComposite\n",
        "sampler = EmbeddingComposite(DWaveSampler())"
      ]
    },
    {
      "cell_type": "markdown",
      "metadata": {
        "id": "D1MdJbDY0ged"
      },
      "source": [
        "Because the sampled solution is probabilistic, returned solutions may differ between runs. Typically, when submitting a problem to a quantum computer, you ask for many samples, not just one. This way, you see multiple “best” answers and reduce the probability of settling on a suboptimal answer. Below, ask for 5000 samples."
      ]
    },
    {
      "cell_type": "code",
      "execution_count": 6,
      "metadata": {
        "id": "tZbDInhD0g6a"
      },
      "outputs": [],
      "source": [
        "sampleset = sampler.sample(bqm, num_reads=5000, label='SDK Examples - Scheduling')"
      ]
    },
    {
      "cell_type": "markdown",
      "metadata": {
        "id": "y642aRmS0lK3"
      },
      "source": [
        "The code below prints all those solutions (assignments of variables) for which the BQM has its minimum value and the number of times it was found."
      ]
    },
    {
      "cell_type": "code",
      "execution_count": 7,
      "metadata": {
        "id": "3ZGjQryp0isk"
      },
      "outputs": [
        {
          "name": "stdout",
          "output_type": "stream",
          "text": [
            "   l  p  t  v energy num_oc. chain_.\n",
            "0  1  0  0  0    0.0    1345     0.0\n",
            "1  0  1  1  1    0.0    1498     0.0\n",
            "2  1  1  1  1    0.0    1040     0.0\n",
            "3  1  1  0  0    0.0    1117     0.0\n",
            "['BINARY', 4 rows, 5000 samples, 4 variables]\n"
          ]
        }
      ],
      "source": [
        "print(sampleset.lowest(atol=.5))"
      ]
    },
    {
      "cell_type": "code",
      "execution_count": 8,
      "metadata": {},
      "outputs": [
        {
          "name": "stdout",
          "output_type": "stream",
          "text": [
            "During evenings at home, you can schedule a short meeting that is optional\n",
            "During business hours at office, you can schedule a long meeting that is mandatory\n",
            "During business hours at office, you can schedule a short meeting that is mandatory\n",
            "During evenings at home, you can schedule a short meeting that is mandatory\n"
          ]
        }
      ],
      "source": [
        "for sample, energy in sampleset.data(['sample', 'energy']):\n",
        "    if energy==0:\n",
        "        time = 'business hours' if sample['t'] else 'evenings'\n",
        "        venue = 'office' if sample['v'] else 'home'\n",
        "        length = 'short' if sample['l'] else 'long'\n",
        "        participation = 'mandatory' if sample['p'] else 'optional'\n",
        "        print(\"During {} at {}, you can schedule a {} meeting that is {}\".format(time, venue, length, participation))"
      ]
    },
    {
      "cell_type": "markdown",
      "metadata": {},
      "source": [
        "### Solving with DWave Hybrid Solvers"
      ]
    },
    {
      "cell_type": "markdown",
      "metadata": {},
      "source": [
        "For big problems with many variables it is useful to use Hybrid solvers. The use of this solvers is quite straight forward and similiar with the SAPI interface.\n",
        "\n",
        "Let's solve this problem with the [LeapHybridSampler](https://docs.ocean.dwavesys.com/en/stable/docs_system/reference/samplers.html#leaphybridsampler), a class for using Leap’s cloud-based hybrid BQM solvers. Leap’s quantum-classical hybrid BQM solvers are intended to solve arbitrary application problems formulated as binary quadratic models (BQM)."
      ]
    },
    {
      "cell_type": "code",
      "execution_count": 9,
      "metadata": {},
      "outputs": [],
      "source": [
        "from dwave.system import LeapHybridSampler\n",
        "\n",
        "# Find a good solution\n",
        "sampler = LeapHybridSampler()       \n",
        "sampleset = sampler.sample(bqm) "
      ]
    },
    {
      "cell_type": "code",
      "execution_count": 10,
      "metadata": {},
      "outputs": [
        {
          "data": {
            "text/plain": [
              "{'minimum_time_limit': [[1, 3.0],\n",
              "  [1024, 3.0],\n",
              "  [4096, 10.0],\n",
              "  [10000, 40.0],\n",
              "  [30000, 200.0],\n",
              "  [100000, 600.0],\n",
              "  [1000000, 600.0]],\n",
              " 'maximum_time_limit_hrs': 24.0,\n",
              " 'maximum_number_of_variables': 1000000,\n",
              " 'maximum_number_of_biases': 200000000,\n",
              " 'parameters': {'time_limit': 'Maximum requested runtime in seconds.'},\n",
              " 'supported_problem_types': ['bqm'],\n",
              " 'category': 'hybrid',\n",
              " 'version': '2.2',\n",
              " 'quota_conversion_rate': 20}"
            ]
          },
          "execution_count": 10,
          "metadata": {},
          "output_type": "execute_result"
        }
      ],
      "source": [
        "sampler.properties"
      ]
    },
    {
      "cell_type": "code",
      "execution_count": 11,
      "metadata": {},
      "outputs": [
        {
          "name": "stdout",
          "output_type": "stream",
          "text": [
            "   l  p  t  v energy num_oc.\n",
            "0  1  1  0  0    0.0       1\n",
            "['BINARY', 1 rows, 1 samples, 4 variables]\n"
          ]
        }
      ],
      "source": [
        "print(sampleset.lowest(atol=.5))"
      ]
    },
    {
      "cell_type": "code",
      "execution_count": 12,
      "metadata": {},
      "outputs": [
        {
          "name": "stdout",
          "output_type": "stream",
          "text": [
            "During evenings at home, you can schedule a short meeting that is mandatory\n"
          ]
        }
      ],
      "source": [
        "for sample, energy in sampleset.data(['sample', 'energy']):\n",
        "    if energy==0:\n",
        "        time = 'business hours' if sample['t'] else 'evenings'\n",
        "        venue = 'office' if sample['v'] else 'home'\n",
        "        length = 'short' if sample['l'] else 'long'\n",
        "        participation = 'mandatory' if sample['p'] else 'optional'\n",
        "        print(\"During {} at {}, you can schedule a {} meeting that is {}\".format(time, venue, length, participation))"
      ]
    }
  ],
  "metadata": {
    "colab": {
      "provenance": []
    },
    "kernelspec": {
      "display_name": "Python 3 (ipykernel)",
      "language": "python",
      "name": "python3"
    },
    "language_info": {
      "codemirror_mode": {
        "name": "ipython",
        "version": 3
      },
      "file_extension": ".py",
      "mimetype": "text/x-python",
      "name": "python",
      "nbconvert_exporter": "python",
      "pygments_lexer": "ipython3",
      "version": "3.10.8"
    }
  },
  "nbformat": 4,
  "nbformat_minor": 0
}
