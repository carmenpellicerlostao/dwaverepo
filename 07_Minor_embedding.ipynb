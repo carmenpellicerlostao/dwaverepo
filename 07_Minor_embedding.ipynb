{
  "cells": [
    {
      "cell_type": "markdown",
      "metadata": {
        "id": "dxdWE8KM7nUg"
      },
      "source": [
        "<div>\n",
        "<img src=\"https://www.nebrija.com/images/logos/logotipo-universidad-nebrija.jpg\" width=\"200\">\n",
        "</div>\n",
        "\n",
        "**MODELOS DE PROGRAMACION: MODELO ADIABATICO** -\n",
        "Prof: Carmen Pellicer Lostao"
      ]
    },
    {
      "cell_type": "markdown",
      "metadata": {
        "id": "e7XfoKUelvsk"
      },
      "source": [
        "# Understanding Minor-Embedding"
      ]
    },
    {
      "cell_type": "markdown",
      "metadata": {
        "id": "YvFXs8RAp5z7"
      },
      "source": [
        "In this notebook we will deep into the concepts of embedding, to understand how the QPU is programmed at low level."
      ]
    },
    {
      "cell_type": "markdown",
      "metadata": {},
      "source": [
        "For an introduction to minor-embedding, see [Minor-Embedding](https://docs.ocean.dwavesys.com/en/stable/concepts/embedding.html).\n",
        "\n",
        "For an introduction to the topologies of D-Wave hardware graphs, see [QPU Topology](https://docs.ocean.dwavesys.com/en/stable/concepts/topology.html). Leap users also have access to the Exploring Pegasus Jupyter Notebook that explains the architecture of D-Wave’s quantum computer, Advantage, in further detail.\n",
        "\n",
        "Two types of embedding:\n",
        "\n",
        "- Minor-embedding can be done manually, though typically for very small problems only. \n",
        "\n",
        "- Minor-embedding can also be automated through Ocean. `minorminer` library is used by several [Ocean embedding composite](https://docs.ocean.dwavesys.com/en/stable/docs_system/reference/composites.html) for this purpose. \n",
        "\n",
        "Once an embedding has been found, D-Wave’s Problem Inspector tool can be used to evaluate its quality. See [Using the Problem Inspector](https://docs.ocean.dwavesys.com/en/stable/examples/inspector_graph_partitioning.html) for more information"
      ]
    },
    {
      "cell_type": "markdown",
      "metadata": {
        "id": "HQ1u3f21c6wS"
      },
      "source": [
        "## Libraries and installs"
      ]
    },
    {
      "cell_type": "markdown",
      "metadata": {
        "id": "sRIFVMLm9FQF"
      },
      "source": [
        "If necessary we install ocean libs and can set-up the environment"
      ]
    },
    {
      "cell_type": "code",
      "execution_count": null,
      "metadata": {
        "id": "wHQS98I92qwx"
      },
      "outputs": [],
      "source": [
        "!pip install dwave-ocean-sdk"
      ]
    },
    {
      "cell_type": "code",
      "execution_count": null,
      "metadata": {
        "id": "-Ev4Yjsc3BvB"
      },
      "outputs": [],
      "source": [
        "!dwave setup"
      ]
    },
    {
      "cell_type": "code",
      "execution_count": null,
      "metadata": {
        "colab": {
          "base_uri": "https://localhost:8080/"
        },
        "id": "IdQjwouG3eth",
        "outputId": "ab120453-24df-4cb6-fcec-0ba5277587df"
      },
      "outputs": [],
      "source": [
        "!dwave config inspect"
      ]
    },
    {
      "cell_type": "markdown",
      "metadata": {
        "id": "YIHQMxqLsne_"
      },
      "source": [
        "Lista los solvers"
      ]
    },
    {
      "cell_type": "code",
      "execution_count": null,
      "metadata": {
        "colab": {
          "base_uri": "https://localhost:8080/"
        },
        "id": "55hYjywmxczL",
        "outputId": "14aa95ff-927e-41c9-9b16-2ff8889c8fe2"
      },
      "outputs": [],
      "source": [
        "!dwave solvers --list --all"
      ]
    },
    {
      "cell_type": "markdown",
      "metadata": {
        "id": "iCa2JQ4fMDKC"
      },
      "source": [
        "## General embeding"
      ]
    },
    {
      "cell_type": "markdown",
      "metadata": {},
      "source": [
        "General embedding refers to embedding that may be useful for any type of graph. I takes one graph and maps it into another\n",
        "\n",
        "[`minorminer`](https://pypi.org/project/minorminer/) is a python library of tools for finding graph minor embeddings, developed to embed Ising problems onto quantum annealers (QA).\n",
        "\n",
        "While this library can be used to find minors in arbitrary graphs, it is particularly geared towards state-of-the-art QA: problem graphs of a few to a few hundred variables, and hardware graphs of a few thousand qubits.\n",
        "\n",
        "`minorminer` has both a Python and C++ API, and includes implementations of multiple embedding algorithms to best fit different problems."
      ]
    },
    {
      "cell_type": "markdown",
      "metadata": {
        "id": "mWv2vdkq-sz-"
      },
      "source": [
        "### Find embeddings"
      ]
    },
    {
      "cell_type": "markdown",
      "metadata": {
        "id": "SoPSOzniONFV"
      },
      "source": [
        "The primary utility function, [`find_embedding()`](https://docs.ocean.dwavesys.com/en/stable/docs_minorminer/source/reference/general_embedding.html), is an implementation of this [heuristic algorithm](https://arxiv.org/abs/1406.2741). It accepts various optional parameters used to tune the algorithm’s execution or constrain the given problem.\n",
        "\n",
        "The function takes two NetworkX graphs $S$ and $T$ and returns a python dictionary that maps labels in $S$ to lists of labels in $T$. If the heuristic fails to find an embedding, an empty dictionary is returned.\n",
        "\n",
        "Embedding is heuristic, then you need a certain random seed to make the result repeatable.\n"
      ]
    },
    {
      "cell_type": "code",
      "execution_count": null,
      "metadata": {
        "colab": {
          "base_uri": "https://localhost:8080/"
        },
        "id": "OWj_Un5EJZKh",
        "outputId": "068e70fb-8954-4a44-ec0f-6988b2c0c5ee"
      },
      "outputs": [],
      "source": [
        "from minorminer import find_embedding\n",
        "\n",
        "#Embedding a K3 source graph into a square target graph by chaining two target nodes to represent one source node\n",
        "\n",
        "# A triangle is a minor of a square.\n",
        "triangle = [(0, 1), (1, 2), (2, 0)]\n",
        "square = [(0, 1), (1, 2), (2, 3), (3, 0)]\n",
        "\n",
        "# Find an assignment of sets of square variables to the triangle variables\n",
        "embedding = find_embedding(triangle, square, random_seed=61)\n",
        "print(len(embedding))  # 3, one key in the dict for each variable in the triangle\n",
        "print(embedding)\n",
        "\n",
        "# We don't know which variables will be assigned where, here are a possible outputs:\n",
        "# for random_seed=61\n",
        "# variable 0 -> qubits [0, 1], variable 1 -> qubits [2], , variable 2 -> qubits [3]\n",
        "# {0: [0, 1], 1: [2], 2: [3]}"
      ]
    },
    {
      "cell_type": "markdown",
      "metadata": {
        "id": "ob4r5VhMPKqh"
      },
      "source": [
        "![image](https://docs.ocean.dwavesys.com/en/stable/_images/Embedding_TriangularSquare.png)"
      ]
    },
    {
      "cell_type": "markdown",
      "metadata": {},
      "source": [
        "Other examples of use of this function"
      ]
    },
    {
      "cell_type": "code",
      "execution_count": null,
      "metadata": {
        "colab": {
          "base_uri": "https://localhost:8080/"
        },
        "id": "SJZBq7c1PIZq",
        "outputId": "7f1967f7-ce66-4145-a59c-475106d606cd"
      },
      "outputs": [],
      "source": [
        "# This minorminer execution of the example requires that source variable 0\n",
        "# always be assigned to target node 2\n",
        "embedding = find_embedding(triangle, square, fixed_chains={0: [2]})\n",
        "print(embedding)\n"
      ]
    },
    {
      "cell_type": "code",
      "execution_count": null,
      "metadata": {
        "colab": {
          "base_uri": "https://localhost:8080/"
        },
        "id": "PKoIPBtTPEOG",
        "outputId": "34d4e5e8-f3bd-4d28-a96f-dfaf69c17873"
      },
      "outputs": [],
      "source": [
        "# This minorminer execution of the example suggests that source variable 0\n",
        "#be assigned to target node 2 as a starting point for finding an embedding.\n",
        "embedding = find_embedding(triangle, square, initial_chains={0: [2]})\n",
        "print(embedding)\n",
        "# [[2], [0, 3], [1]]\n",
        "# [[0], [3], [1, 2]]\n",
        "# Output where source variable 0 has switched to a different target node is possible."
      ]
    },
    {
      "cell_type": "markdown",
      "metadata": {
        "id": "AnRciMO91vmL"
      },
      "source": [
        "### Embedding in QPU topology graphs"
      ]
    },
    {
      "cell_type": "markdown",
      "metadata": {
        "id": "sc-tvhsz12Sc"
      },
      "source": [
        "[dwave-networkx](https://docs.ocean.dwavesys.com/en/stable/docs_dnx/sdk_index.html) library has tools to create graphs of QPU topologies and draw the embeddings we perform on them\n",
        "\n",
        "\n",
        "We have the functions to build graphs:\n",
        "*   [`chimera_graph()`](https://docs.ocean.dwavesys.com/en/stable/docs_dnx/reference/generated/dwave_networkx.chimera_graph.html)\n",
        "*   [`pegasus_graph()`](https://docs.ocean.dwavesys.com/en/stable/docs_dnx/reference/generated/dwave_networkx.pegasus_graph.html)\n",
        "*   [`zephyr_graph()`](https://docs.ocean.dwavesys.com/en/stable/docs_dnx/reference/generated/dwave_networkx.zephyr_graph.html)\n",
        "\n",
        "and to draw graphs and embeddings:\n",
        "*   [`draw_chimera_embedding()`](https://docs.ocean.dwavesys.com/en/stable/docs_dnx/reference/generated/dwave_networkx.drawing.chimera_layout.draw_chimera_embedding.html#dwave_networkx.drawing.chimera_layout.draw_chimera_embedding)\n",
        "*   [`draw_pegasus_embedding()`](https://docs.ocean.dwavesys.com/en/stable/docs_dnx/reference/generated/dwave_networkx.drawing.pegasus_layout.draw_pegasus_embedding.html)\n",
        "*   [`draw_zephyr_embedding()`](https://docs.ocean.dwavesys.com/en/stable/docs_dnx/reference/generated/dwave_networkx.drawing.zephyr_layout.draw_zephyr_embedding.html)\n",
        "\n"
      ]
    },
    {
      "cell_type": "markdown",
      "metadata": {
        "id": "ZRysI9hxhdxm"
      },
      "source": [
        "To ilustrate an example of use of these functions we will embed clique graphs on these topologies and use [`find_clique_embedding() `](https://docs.ocean.dwavesys.com/en/stable/docs_minorminer/source/reference/clique_embedding.html) that may produce better embeddings than the generic `find_embedding()` method if the source graph is a clique."
      ]
    },
    {
      "cell_type": "code",
      "execution_count": null,
      "metadata": {
        "colab": {
          "base_uri": "https://localhost:8080/"
        },
        "id": "xyDgziVHfE2s",
        "outputId": "6e359964-3583-4d4d-f296-2abb0d5cb0ee"
      },
      "outputs": [],
      "source": [
        "# This example minor embeds a fully connected K5 graph into a chimera graph\n",
        "\n",
        "import networkx as nx\n",
        "import dwave_networkx as dnx\n",
        "import matplotlib.pyplot as plt\n",
        "from minorminer import busclique\n",
        "\n",
        "C = dnx.chimera_graph(2, 2)\n",
        "embedding = busclique.find_clique_embedding(5, C)\n",
        "\n",
        "print('embedding',embedding)\n",
        "print('number of qubits requiered', sum([len(k) for k in embedding.values()]))\n",
        "# There are many possible outputs, and sometimes it might fail and return an empty list"
      ]
    },
    {
      "cell_type": "code",
      "execution_count": null,
      "metadata": {},
      "outputs": [],
      "source": [
        "# we can draw the embedding passing the QPU topology graph (C = dnx.chimera_graph(2, 2)) and the embedding\n",
        "dnx.draw_chimera_embedding(C,embedding, show_labels=True)"
      ]
    },
    {
      "cell_type": "markdown",
      "metadata": {},
      "source": [
        "### EXERCICE"
      ]
    },
    {
      "cell_type": "markdown",
      "metadata": {},
      "source": [
        "Try embedding the $K_5$ in Pegasus or Zephys graphs.\n",
        "\n",
        "Consider generating Clique graphs of higher order and check the embeddings in both topologies."
      ]
    },
    {
      "cell_type": "code",
      "execution_count": null,
      "metadata": {},
      "outputs": [],
      "source": [
        "# Pegasus\n"
      ]
    },
    {
      "cell_type": "code",
      "execution_count": null,
      "metadata": {
        "colab": {
          "base_uri": "https://localhost:8080/"
        },
        "id": "CnXS-2FTkPW1",
        "outputId": "63bcad25-bb2a-473e-8b06-d218885aba26"
      },
      "outputs": [],
      "source": [
        "# Zephyr\n"
      ]
    },
    {
      "cell_type": "markdown",
      "metadata": {
        "id": "rqBDvinK1mA_"
      },
      "source": [
        "## Embedding SAT problems: Boolean NOT and AND Gates"
      ]
    },
    {
      "cell_type": "markdown",
      "metadata": {
        "id": "vG917nJC1su-"
      },
      "source": [
        "Here we experiment how embedding works for two very simple SAT problems  (the Boolean NOT and AND gates) on a D-Wave system to demonstrate programming the underlying hardware more directly; in particular, minor-embedding a chain.\n",
        "\n",
        "[Minor-embedding](https://docs.dwavesys.com/docs/latest/c_gs_7.html) is an advanced step that can be considered to control QPU in a low level.\n",
        "\n",
        "Let's start formulating logic circuit gate problems as QUBOs and Embedding them in QPU"
      ]
    },
    {
      "cell_type": "markdown",
      "metadata": {
        "id": "ez8f28ZficUL"
      },
      "source": [
        "### NOT gate"
      ]
    },
    {
      "cell_type": "markdown",
      "metadata": {
        "id": "I6c5pYV5ebw7"
      },
      "source": [
        "As we saw when we were dealing with SAT problems you can represent a NOT gate ($x_1$ the input and $x_2$ the output) $x_2=¬x_1$ as the following QM\n",
        "\n",
        "$$ E(x)= 2x_1x_2-x_1-x_2+1$$\n",
        "\n",
        "This is a simple QUBO that we build algebraically from the equality (substracting the terms of the equality and square it $(x_1+x_2-1)^2$) and the fact that for binary valued variables, you can substitute  $¬x_1 =(1−x_1)$.\n",
        "\n"
      ]
    },
    {
      "cell_type": "code",
      "execution_count": null,
      "metadata": {
        "id": "zqD2bzC8ilti"
      },
      "outputs": [],
      "source": [
        "Q_not = {('x1', 'x2'): -1, ('x1', 'x2'): 2, ('x2', 'x1'): 0, ('x2', 'x2'): -1}"
      ]
    },
    {
      "cell_type": "markdown",
      "metadata": {},
      "source": [
        "### Solve the Problem by Sampling (Automated Minor-Embedding)"
      ]
    },
    {
      "cell_type": "markdown",
      "metadata": {},
      "source": [
        "Again we use sampler [`DWaveSampler()`](https://docs.ocean.dwavesys.com/en/stable/docs_system/reference/samplers.html#dwavesampler) from Ocean software’s dwave-system and its [`EmbeddingComposite()`](https://docs.ocean.dwavesys.com/en/stable/docs_system/reference/composites.html#embedding)composite to minor-embed the unstructured problem (variables $x_1,x_2$, and $x_3$) on the sampler’s graph structure (the QPU’s numerically indexed qubits).\n",
        "\n",
        "The next code sets up a D-Wave system as the sampler."
      ]
    },
    {
      "cell_type": "code",
      "execution_count": null,
      "metadata": {},
      "outputs": [],
      "source": [
        "from dwave.system import DWaveSampler, EmbeddingComposite\n",
        "sampler = DWaveSampler()\n",
        "sampler_embedded = EmbeddingComposite(sampler)\n",
        "\n",
        "sampleset = sampler_embedded.sample_qubo(Q_not, num_reads=5000, label='SDK Examples - AND Gate')\n",
        "print(sampleset)"
      ]
    },
    {
      "cell_type": "markdown",
      "metadata": {},
      "source": [
        "Almost all the returned samples from this execution represent valid value assignments for a NOT gate, and minimize (are low-energy states of) the BQM."
      ]
    },
    {
      "cell_type": "markdown",
      "metadata": {},
      "source": [
        "Let's see the embedding in the [Problem Inspector](). The figure below shows this embedding of the NOT gate onto an Advantage QPU."
      ]
    },
    {
      "cell_type": "code",
      "execution_count": null,
      "metadata": {
        "colab": {
          "base_uri": "https://localhost:8080/",
          "height": 35
        },
        "id": "otN24GWrlqdz",
        "outputId": "270cf274-cbb6-4770-b57b-a96325885d42"
      },
      "outputs": [],
      "source": [
        "import dwave.inspector\n",
        "\n",
        "# Inspect the problems sampleset\n",
        "dwave.inspector.show(sampleset)"
      ]
    },
    {
      "cell_type": "markdown",
      "metadata": {
        "id": "hGLuDj3jmWTz"
      },
      "source": [
        "Notice that coupling strength is BIAS 0.5 above: the QPU can be viewed as minimizing the Ising model, with linear biases setting the amplitudes of magnetic fields applied to qubits and quadratic biases the strength of coupling between qubits.\n",
        "\n",
        "While QUBOs are more convenient to work with for some problems, Ocean converts problems submitted to a QPU to equivalent Ising models, producing the $J_{1,2}$ bias of 0.5 for the qubits connection coupler shown above (and , not shown, zero $h_1=h_2$ biases on the two qubits):"
      ]
    },
    {
      "cell_type": "code",
      "execution_count": null,
      "metadata": {
        "colab": {
          "base_uri": "https://localhost:8080/"
        },
        "id": "t2STDmn-m10M",
        "outputId": "0f67e38a-2fe9-4534-cb04-697802c1c1e3"
      },
      "outputs": [],
      "source": [
        "import dimod\n",
        "dimod.qubo_to_ising(Q_not)"
      ]
    },
    {
      "cell_type": "markdown",
      "metadata": {},
      "source": [
        "### Minor embedding NOT gate QUBO problem"
      ]
    },
    {
      "cell_type": "markdown",
      "metadata": {},
      "source": [
        "Minor embedding maps the two problem variables $x_1$ and $x_2$ to the indexed qubits of the D-Wave QPU. Here, you will do this mapping yourself.\n",
        "\n",
        "The next line of code looks at the `nodelist` property of the s`ampler`. Select the first node, which on a QPU is a qubit, and print its adjacent nodes, which are the qubits it is coupled to."
      ]
    },
    {
      "cell_type": "code",
      "execution_count": null,
      "metadata": {},
      "outputs": [],
      "source": [
        "print('first qbit used in the sampler',sampler.nodelist[0])\n",
        "\n",
        "print('qbits connected to the first in the sampler',sampler.adjacency[sampler.nodelist[0]])"
      ]
    },
    {
      "cell_type": "markdown",
      "metadata": {},
      "source": [
        "For the Advantage system the above code ran on in this particular execution, you see that the first available qubit, 30, is adjacent to qubit 31 and a few others. These nodes are in the edge of the graph and have limited connection.\n",
        "\n",
        "You can map the NOT problem’s two linear coefficients (coefficients of the $-x_1$\n",
        " and $-x_2$ terms) and single quadratic coefficient (coefficient of the $2x_1x_2$ term) to $q_1=q_2=-1$ biases applied to the Advantage’s qubits 30 and 31 and a $q_{1,2}=2$ coupling strength applied to coupler [30, 31]."
      ]
    },
    {
      "cell_type": "markdown",
      "metadata": {},
      "source": [
        "The following code uses the [FixedEmbeddingComposite](https://docs.ocean.dwavesys.com/en/stable/docs_system/reference/composites.html#dwave.system.composites.FixedEmbeddingComposite) composite to manually minor-embed the problem on this Advantage QPU.\n",
        "\n",
        "Note: For your selected QPU, use your `sampler.nodelist[0]` qubit for $x_1$\n",
        " and any of its adjacent qubits, sampler.adjacency `[sampler.nodelist[0]]`, for\n",
        ", as done above."
      ]
    },
    {
      "cell_type": "code",
      "execution_count": null,
      "metadata": {},
      "outputs": [],
      "source": [
        "from dwave.system import FixedEmbeddingComposite\n",
        "sampler_embedded = FixedEmbeddingComposite(sampler, {\"x1\": [30], \"x2\": [31]})\n",
        "print(sampler_embedded.adjacency[\"x1\"])"
      ]
    },
    {
      "cell_type": "code",
      "execution_count": null,
      "metadata": {},
      "outputs": [],
      "source": [
        "sampleset = sampler_embedded.sample_qubo(Q_not, num_reads=5000, label='SDK Examples - AND Gate')\n",
        "print(sampleset)"
      ]
    },
    {
      "cell_type": "markdown",
      "metadata": {},
      "source": [
        "As before, most the results from 5000 samples are valid states of a NOT gate, with complementary values for $x_1$\n",
        " and $x_2$.\n",
        "\n",
        " Let's see the embedding in the problem inspector"
      ]
    },
    {
      "cell_type": "code",
      "execution_count": null,
      "metadata": {},
      "outputs": [],
      "source": [
        "# Inspect the problems sampleset\n",
        "dwave.inspector.show(sampleset)"
      ]
    },
    {
      "cell_type": "markdown",
      "metadata": {},
      "source": [
        "The crucial point to understand in this subsection is that you cannot map the set of your problem’s variables to a set of arbitrary qubits. Quadratic models have interactions between some pairs of the variables and those require the existence of couplers between the qubits representing such variable pairs; because the graph of a QPU is not fully connected, not all qubits are coupled. For interacting variables $x_1,x_2$\n",
        " of the NOT gate, the selection of qubit 30 for variable $x_1$\n",
        " severely limits the possible choices of qubits that can represent variable $x_2$"
      ]
    },
    {
      "cell_type": "markdown",
      "metadata": {
        "id": "wCppqpyKifRd"
      },
      "source": [
        "### AND gate"
      ]
    },
    {
      "cell_type": "markdown",
      "metadata": {
        "id": "pp-bdQcS5ncd"
      },
      "source": [
        "As we saw in the notebook to solve SAT problems DWave `dimod` library has interesting tools to generate QUBO functions for different SAT conditions"
      ]
    },
    {
      "cell_type": "code",
      "execution_count": null,
      "metadata": {
        "id": "YMRZqg8G5aw0"
      },
      "outputs": [],
      "source": [
        "from dimod.generators import or_gate, and_gate, combinations\n",
        "# generating BQM models\n",
        "\n",
        "#generate a BQM  with variables x1, x2, x3, x4 that exactly 2 of the four variables are 1 satisfy the condition of min energy\n",
        "bqm_4_2 = combinations(['x1', 'x2', 'x3', 'x4'], 2)\n",
        "\n",
        "#generate a BQM for 3 variables that satisfy the OR operation x1vx2=x3\n",
        "bqm_or = or_gate('x1', 'x2', 'x3')\n",
        "\n",
        "#generate a BQM for 3 variables that satisfy the AND operation x1^x2=x3\n",
        "bqm_and = and_gate('x1', 'x2', 'x3')\n"
      ]
    },
    {
      "cell_type": "markdown",
      "metadata": {
        "id": "upvX7ghj6Ayc"
      },
      "source": [
        "We will work with the Boolean AND Gate QM"
      ]
    },
    {
      "cell_type": "code",
      "execution_count": null,
      "metadata": {
        "colab": {
          "base_uri": "https://localhost:8080/"
        },
        "id": "aQ-JXkeb8bXy",
        "outputId": "ea09d845-99b1-4503-f107-c24de9fbddd3"
      },
      "outputs": [],
      "source": [
        "bqm_and"
      ]
    },
    {
      "cell_type": "markdown",
      "metadata": {
        "id": "T-uwdrS1Zc6M"
      },
      "source": [
        "Mathematically this QM corresponds to:\n",
        "$$ E(x)= 3x_3 + x_1x_2 + -2x_1x_3 -2x_2x_3$$\n",
        "\n",
        "And as a matrix:\n",
        "\n",
        "$$Q= \\begin{bmatrix} 0 & 1 & -2 \\\\ 0 & 0 & -2 \\\\ 0 & 0 & -3 \\end{bmatrix} $$\n",
        "\n",
        "where $x_1, x_2$ are the inputs and $x_3$ is the output of the AND gate"
      ]
    },
    {
      "cell_type": "markdown",
      "metadata": {
        "id": "gCdlTfA0Z6hT"
      },
      "source": [
        "### Solve the Problem by Sampling (Automated Minor-Embedding)"
      ]
    },
    {
      "cell_type": "markdown",
      "metadata": {
        "id": "9PSk96P9aHFL"
      },
      "source": [
        "Again we use sampler [`DWaveSampler()`](https://docs.ocean.dwavesys.com/en/stable/docs_system/reference/samplers.html#dwavesampler) from Ocean software’s dwave-system and its [`EmbeddingComposite()`](https://docs.ocean.dwavesys.com/en/stable/docs_system/reference/composites.html#embedding) composite to minor-embed the unstructured problem (variables $x_1,x_2$, and $x_3$) on the sampler’s graph structure (the QPU’s numerically indexed qubits).\n",
        "\n",
        "The next code sets up a D-Wave system as the sampler."
      ]
    },
    {
      "cell_type": "code",
      "execution_count": null,
      "metadata": {
        "colab": {
          "base_uri": "https://localhost:8080/"
        },
        "id": "R1uMKpoMa84b",
        "outputId": "2c2116bc-038d-4eac-ad5a-039a4cbba1a9"
      },
      "outputs": [],
      "source": [
        "from dwave.system import DWaveSampler, EmbeddingComposite\n",
        "sampler = DWaveSampler()\n",
        "sampler_embedded = EmbeddingComposite(sampler)\n",
        "\n",
        "sampleset = sampler_embedded.sample(bqm_and, num_reads=5000,\n",
        "                                         label='SDK Examples - AND Gate')\n",
        "print(sampleset)"
      ]
    },
    {
      "cell_type": "markdown",
      "metadata": {
        "id": "tXtk3BlscUDj"
      },
      "source": [
        "All the returned samples from this execution represent valid value assignments for an AND gate, and minimize (are low-energy states of) the BQM."
      ]
    },
    {
      "cell_type": "markdown",
      "metadata": {
        "id": "kDEm_hy2csBz"
      },
      "source": [
        "### Minor Embedding NOT, AND gates and Larger Problems"
      ]
    },
    {
      "cell_type": "markdown",
      "metadata": {
        "id": "QCZLv6FhqlTT"
      },
      "source": [
        "The BQM for a NOT gate, $ -x_1-x_2+2x_1x_2$, can be represented by a fully connected $K_2$ graph: its linear coefficients are weights of the two connected nodes with the single quadratic coefficient the weight of its connecting edge.\n",
        "\n",
        "The BQM for an AND gate, $ 3x_3 + x_1x_2 + -2x_1x_3 -2x_2x_3$, needs a $K_3$ graph.\n",
        "\n",
        "<div>\n",
        "<img src=\"https://docs.ocean.dwavesys.com/en/stable/_images/Embedding_NOTvsAND.png\" width=\"300\">\n",
        "</div>"
      ]
    },
    {
      "cell_type": "markdown",
      "metadata": {
        "id": "Qe66IbA5r_Es"
      },
      "source": [
        "Previously, to minor-embed a $K_2$  graph on a QPU, you selected an arbitrary qubit (for simplicity, the first listed) and could then select as the second any of the qubits coupled to the first. Minor-embedding a $K_3$ graph on a D-Wave QPU is less straightforward.\n",
        "\n",
        "Consider trying to expand the minor embedding you found for the NOT gate above to the AND gate. On the same QPU, map $x_1$ and $x_2$ to the qubits used before, 30 and 31, respectively. For $x_3$ you now need a third qubit coupled to both:"
      ]
    },
    {
      "cell_type": "code",
      "execution_count": null,
      "metadata": {
        "colab": {
          "base_uri": "https://localhost:8080/"
        },
        "id": "oXr2QBg0sZ8i",
        "outputId": "f078c635-6de1-43b8-a373-3c1a0903cebe"
      },
      "outputs": [],
      "source": [
        "#In the sampler Pegasus Topology\n",
        "set1=sampler.adjacency[30]\n",
        "set2=sampler.adjacency[31]\n",
        "print(set1)\n",
        "print(set2)\n",
        "\n",
        "#use python set intersection to check if there are common coupled qbits\n",
        "print('common qbits', set1.intersection(set2)) #none in common"
      ]
    },
    {
      "cell_type": "markdown",
      "metadata": {
        "id": "qQgUUw2ws_Cs"
      },
      "source": [
        "Qubit 30 is coupled to 5 additional qubits and qubit 31 is coupled to 6 but none common to both.\n",
        "\n",
        "In the Pegasus topology, most qubits couple to 15 other qubits. The qubits used here couple to fewer because of their positions at the edge of the QPU graph.\n",
        "\n",
        "Because each qubit is coupled to a limited set of other qubits, only a minority of coupled qubits are also coupled in common to a third qubit."
      ]
    },
    {
      "cell_type": "markdown",
      "metadata": {
        "id": "ZbNWCBoBuRYL"
      },
      "source": [
        "In this case, a more successful selection for variables $x_1$ and $x_2$\n",
        " is the set of qubits 30 and 2985. Both these qubits are also coupled to qubit 45 and 2970."
      ]
    },
    {
      "cell_type": "code",
      "execution_count": null,
      "metadata": {
        "colab": {
          "base_uri": "https://localhost:8080/"
        },
        "id": "8Y_GBLcJuZkK",
        "outputId": "5f9f5ec2-8e23-4af5-a05b-f1d0dfc295e8"
      },
      "outputs": [],
      "source": [
        "#In the sampler Pegasus Topology\n",
        "set1=sampler.adjacency[30]\n",
        "set2=sampler.adjacency[2985]\n",
        "print(set1)\n",
        "print(set2)\n",
        "\n",
        "#use python set intersection to check if there are common coupled qbits\n",
        "print('common qbits', set1.intersection(set2)) #none in common"
      ]
    },
    {
      "cell_type": "markdown",
      "metadata": {
        "id": "NQDJ38psut8b"
      },
      "source": [
        "The figure below shows a minor embedding of the AND gate onto an Advantage QPU"
      ]
    },
    {
      "cell_type": "code",
      "execution_count": null,
      "metadata": {
        "id": "MMdxFMFwutml"
      },
      "outputs": [],
      "source": [
        "# Inspect the problems sampleset\n",
        "dwave.inspector.show(sampleset)"
      ]
    },
    {
      "cell_type": "markdown",
      "metadata": {
        "id": "hGLanE-DvFbT"
      },
      "source": [
        "Can you always make a successful selection of qubits such that all your problem’s variables are mapped to qubits with couplings that can represent all the problem’s interactions?\n",
        "\n",
        "Such one-to-one embeddings, with each graph node represented by a single qubit, are called **native embeddings**.\n",
        "\n",
        "The largest clique you can embed natively on the Pegasus topology is a $K_4$. Larger cliques such as $K_5$, as well as large, non-clique (“sparse”) graphs, require **chaining qubits**."
      ]
    },
    {
      "cell_type": "markdown",
      "metadata": {
        "id": "5pLtwTzgvX7M"
      },
      "source": [
        "### Chains"
      ]
    },
    {
      "cell_type": "markdown",
      "metadata": {
        "id": "Yb_XdzDLvhMT"
      },
      "source": [
        "To understand how chaining qubits overcomes the problem of sparse connectivity, consider minor embedding the triangular $K_3$ graph below into two target graphs, one sparser than the other. The graphic below shows two such embeddings: the $K_3$ graph is mapped on the left to a fully-connected graph of four nodes (a $K_4$ complete graph ) and on the right to a sparser graph, also of four nodes.\n",
        "\n",
        "<div>\n",
        "<img src=\"https://docs.ocean.dwavesys.com/en/stable/_images/chain_triangle_four_qubits.png\" width=\"500\">\n",
        "</div>\n",
        "\n",
        "For the left-hand embedding, you can choose any mapping between $a,b,c$\n",
        " and $0,1,2,3$; here $a,b,c$ are mapped to $2,0,1$, respectively. For the right-hand embedding, however, no choice of just three target nodes suffices. The same $2,0,1$ target nodes leaves $b$ disconnected from $c$. Chaining target nodes $0$ and $3$ to represent node $b$ makes use of both the connection between $0$ to $2$ and the connection between $3$ and $1$\n",
        "."
      ]
    },
    {
      "cell_type": "markdown",
      "metadata": {
        "id": "oNtqnSGmwovN"
      },
      "source": [
        "On QPUs, **chaining qubits** is accomplished by setting the strength of their connecting couplers negative enough to **strongly correlate the states of the chained qubits;** if at the end of most anneals these qubits are in the same classical state, representing the same binary value in the objective function, they are in effect acting as a single variable.\n",
        "\n",
        "The strength of the coupler between qubits 0 and 3, which represents $b$ variable, must be set to correlate the qubits strongly, so that in most solutions they have a single value for $x_3$. The **chain_b**. column in solver results stands for “**chain breaks**”, which is when **qubits in a chain take different values**.)"
      ]
    },
    {
      "cell_type": "markdown",
      "metadata": {
        "id": "1cvP3xZTxLsk"
      },
      "source": [
        "The previous subsection showed that if you mapped the AND problem’s variables\n",
        "$x_1$ and $x_2$ to qubits 30 and 31, respectively, on the QPU used before, you could not find a single qubit coupled to both for variable $x_3$. But notice, for example, that qubit 30 (representing $x_1$) is coupled to qubit 45 and qubit 31 (representing $x_2$) is coupled to qubit 46. You can represent variable $x_3$ as a chain of qubits 45 and 46, which are coupled:"
      ]
    },
    {
      "cell_type": "code",
      "execution_count": null,
      "metadata": {
        "colab": {
          "base_uri": "https://localhost:8080/"
        },
        "id": "MkttagKTxrke",
        "outputId": "1eb70148-9c79-4eb4-8684-c66da0b1fa15"
      },
      "outputs": [],
      "source": [
        "print('is true that (45, 46) are connected?', (45, 46) in sampler.edgelist )\n",
        "\n",
        "sampler_embedded = FixedEmbeddingComposite(sampler, {\"x1\": [30], \"x2\": [31], \"x3\": [45, 46]})\n",
        "sampleset = sampler_embedded.sample(bqm_and, num_reads=5000,\n",
        "                                         label='SDK Examples - AND Gate')\n",
        "print(sampleset)"
      ]
    },
    {
      "cell_type": "markdown",
      "metadata": {
        "id": "upuwIXZVyM8F"
      },
      "source": [
        "The problem inspector shows this minor embedding of the AND gate onto this Advantage QPU."
      ]
    },
    {
      "cell_type": "code",
      "execution_count": null,
      "metadata": {
        "id": "m9Eel13ByP10"
      },
      "outputs": [],
      "source": [
        "# Inspect the problems sampleset\n",
        "dwave.inspector.show(sampleset)"
      ]
    },
    {
      "cell_type": "markdown",
      "metadata": {
        "id": "oHO3AqM_yYcL"
      },
      "source": [
        "### Chain strength"
      ]
    },
    {
      "cell_type": "markdown",
      "metadata": {
        "id": "Fjm0ua5Yyk-c"
      },
      "source": [
        "For illustrative purposes, this subsection purposely weakens the chain strength (strength of the coupling between qubits 45 and 46, which represent variable $x_3$).\n",
        "\n",
        "Previously we saw that the chain strength by default was set close to 1."
      ]
    },
    {
      "cell_type": "code",
      "execution_count": null,
      "metadata": {
        "colab": {
          "base_uri": "https://localhost:8080/"
        },
        "id": "WqAVinx8y2-V",
        "outputId": "04eee9b1-145e-47d4-df1d-a867a085aa41"
      },
      "outputs": [],
      "source": [
        "print(round(sampleset.info['embedding_context']['chain_strength'], 3))"
      ]
    },
    {
      "cell_type": "markdown",
      "metadata": {
        "id": "DZWEXZOby-HM"
      },
      "source": [
        "The following code explicitly sets chain strength to a lower value of 0.25. Consequently, the two qubits are less strongly correlated and the result is that many returned samples represent invalid states for an AND gate."
      ]
    },
    {
      "cell_type": "code",
      "execution_count": null,
      "metadata": {
        "colab": {
          "base_uri": "https://localhost:8080/"
        },
        "id": "3rJe7pqNzASr",
        "outputId": "013c9e86-f8a9-49fe-a154-4aa94fbe3a6a"
      },
      "outputs": [],
      "source": [
        "import dwave.inspector\n",
        "sampleset = sampler_embedded.sample(bqm_and, num_reads=5000,\n",
        "                                         chain_strength=0.25,\n",
        "                                         label='SDK Examples - AND Gate')\n",
        "print(sampleset)"
      ]
    },
    {
      "cell_type": "markdown",
      "metadata": {
        "id": "UfcM6BhfzLa7"
      },
      "source": [
        "In this case, as above, you are likely to see many samples with broken chains (these have non-zero values in the chain_b. column) and calling the problem inspector shows these:"
      ]
    },
    {
      "cell_type": "code",
      "execution_count": null,
      "metadata": {
        "id": "4vi6lE8gzHfL"
      },
      "outputs": [],
      "source": [
        "# Inspect the problems sampleset\n",
        "dwave.inspector.show(sampleset)"
      ]
    },
    {
      "cell_type": "markdown",
      "metadata": {
        "id": "OlBzQr4oMifC"
      },
      "source": [
        "## Solving problems with different Minor-Embedding and QPU Topologies\n",
        "\n",
        "In practice, we can use embedding on different topologies selecting the topology type of the solver.\n",
        "\n",
        "We can embed a QUBO into a topology specifying the `topology_type` parameter of the solver."
      ]
    },
    {
      "cell_type": "code",
      "execution_count": null,
      "metadata": {
        "id": "NImJ4NVpltwr"
      },
      "outputs": [],
      "source": [
        "import dwavebinarycsp\n",
        "import dwave.inspector\n",
        "from dwave.system.samplers import DWaveSampler\n",
        "from dwave.system.composites import EmbeddingComposite"
      ]
    },
    {
      "cell_type": "code",
      "execution_count": null,
      "metadata": {
        "id": "nAKd84hzxu2M"
      },
      "outputs": [],
      "source": [
        "## ADVANCED\n",
        "sampler = EmbeddingComposite(DWaveSampler()) #pegasus - chimera don't exists\n",
        "adv_sampler = EmbeddingComposite(DWaveSampler(solver=dict(topology__type='pegasus')))\n",
        "adv2p_sampler = EmbeddingComposite(DWaveSampler(solver=dict(topology__type=\"zephyr\")))"
      ]
    },
    {
      "cell_type": "code",
      "execution_count": null,
      "metadata": {
        "id": "sDSZ3u7f0t5S"
      },
      "outputs": [],
      "source": [
        "sampleset = adv_sampler.sample(bqm_and, num_reads=5000, label='SDK Examples - AND Gate')\n",
        "print(sampleset)"
      ]
    },
    {
      "cell_type": "code",
      "execution_count": null,
      "metadata": {
        "id": "X6W0LTRI09TL"
      },
      "outputs": [],
      "source": [
        "# Inspect the problems sampleset\n",
        "dwave.inspector.show(sampleset)"
      ]
    },
    {
      "cell_type": "code",
      "execution_count": null,
      "metadata": {
        "id": "ZADK2ckf1BiL"
      },
      "outputs": [],
      "source": [
        "## ADVANCED2\n",
        "sampleset = adv2p_sampler.sample(bqm_and, num_reads=5000, label='SDK Examples - AND Gate')\n",
        "print(sampleset)"
      ]
    },
    {
      "cell_type": "code",
      "execution_count": null,
      "metadata": {
        "id": "PZFBmaZQ1Jrb"
      },
      "outputs": [],
      "source": [
        "# Inspect the problems sampleset\n",
        "dwave.inspector.show(sampleset)"
      ]
    }
  ],
  "metadata": {
    "colab": {
      "collapsed_sections": [
        "HQ1u3f21c6wS",
        "3JGOtb_iqPkL"
      ],
      "provenance": []
    },
    "kernelspec": {
      "display_name": "Python 3 (ipykernel)",
      "language": "python",
      "name": "python3"
    },
    "language_info": {
      "codemirror_mode": {
        "name": "ipython",
        "version": 3
      },
      "file_extension": ".py",
      "mimetype": "text/x-python",
      "name": "python",
      "nbconvert_exporter": "python",
      "pygments_lexer": "ipython3",
      "version": "3.10.8"
    }
  },
  "nbformat": 4,
  "nbformat_minor": 0
}
